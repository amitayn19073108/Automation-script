{
 "cells": [
  {
   "cell_type": "code",
   "execution_count": 52,
   "id": "0b243c2f-2003-4236-a85e-c45e37ef0460",
   "metadata": {},
   "outputs": [],
   "source": [
    "import uiautomator2 as ui2\n",
    "import time\n",
    "\n",
    "# Connect to the device\n",
    "receiver_device_serial = \"192.168.2.97:5555\"\n",
    "receiver_device = ui2.connect(receiver_device_serial)\n",
    "receiver_device(text=\"Gmail\").long_click()\n",
    "time.sleep(2)\n",
    "receiver_device.xpath('//*[@resource-id=\"com.android.launcher3:id/popup_container\"]/android.widget.FrameLayout[1]').click();\n",
    "time.sleep(2)\n",
    "receiver_device.xpath('//*[@resource-id=\"com.android.launcher3:id/widgets_table\"]/android.widget.TableRow[1]/com.android.launcher3.widget.WidgetCell[1]/android.widget.FrameLayout[1]').long_click()\n",
    "time.sleep(2)\n",
    "receiver_device(resourceId=\"com.google.android.gm:id/mailbox_name\", text=\"testsingh1907@gmail.com\").click()\n",
    "receiver_device(resourceId=\"com.google.android.gm:id/name\", text=\"Primary\").click()\n",
    "time.sleep(2)\n",
    "receiver_device(resourceId=\"com.android.systemui:id/center_group\").click()\n",
    "time.sleep(2)\n",
    "receiver_device(resourceId=\"com.google.android.gm:id/widget_compose\").click()\n",
    "time.sleep(2)\n",
    "receiver_device.xpath('//*[@resource-id=\"com.google.android.gm:id/peoplekit_autocomplete_chip_group\"]/android.widget.EditText[1]').click()\n",
    "receiver_device.send_keys(\"testsingh3108@gmail.com\", clear=True)\n",
    "time.sleep(2)\n",
    "receiver_device(resourceId=\"com.google.android.gm:id/peoplekit_listview_row_avatar\").click()\n",
    "time.sleep(2)\n",
    "receiver_device(resourceId=\"com.google.android.gm:id/subject\").click()\n",
    "receiver_device.send_keys(\"Greet\", clear=True)\n",
    "time.sleep(2)\n",
    "receiver_device.xpath('//*[@resource-id=\"com.google.android.gm:id/wc_body_layout\"]/android.webkit.WebView[1]').click()\n",
    "receiver_device.send_keys(\"hello world\", clear=True)\n",
    "time.sleep(2)\n",
    "receiver_device(resourceId=\"com.google.android.gm:id/send\").click()\n",
    "\n",
    "\n",
    "\n",
    "\n",
    "\n",
    "\n",
    "\n",
    "\n",
    "\n",
    "\n",
    "\n",
    "\n"
   ]
  },
  {
   "cell_type": "code",
   "execution_count": null,
   "id": "01afaa8d-aff9-459c-95dd-d1cc360d6746",
   "metadata": {},
   "outputs": [],
   "source": []
  }
 ],
 "metadata": {
  "kernelspec": {
   "display_name": "Python 3 (ipykernel)",
   "language": "python",
   "name": "python3"
  },
  "language_info": {
   "codemirror_mode": {
    "name": "ipython",
    "version": 3
   },
   "file_extension": ".py",
   "mimetype": "text/x-python",
   "name": "python",
   "nbconvert_exporter": "python",
   "pygments_lexer": "ipython3",
   "version": "3.12.1"
  }
 },
 "nbformat": 4,
 "nbformat_minor": 5
}
